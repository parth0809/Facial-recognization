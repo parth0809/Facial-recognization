{
 "cells": [
  {
   "cell_type": "code",
   "execution_count": 1,
   "id": "f2fea84b",
   "metadata": {},
   "outputs": [],
   "source": [
    "import cv2\n",
    "import numpy as np  "
   ]
  },
  {
   "cell_type": "code",
   "execution_count": 2,
   "id": "a4e5c4cb",
   "metadata": {},
   "outputs": [],
   "source": [
    "def distance(v1,v2):\n",
    "    return np.sqrt(((v1-v2)**2).sum())\n",
    "def knn(train,test,k=5):\n",
    "    dist=[]\n",
    "    for i in range (train.shape[0]):\n",
    "        ix=train[i,:-1]\n",
    "        iy=train[i,-1]\n",
    "        d=distance(test,ix)\n",
    "        dist.append([d,iy])\n",
    "    dk=sorted(dist,key=lambda x:x[0])\n",
    "    labels=np.array(dk)[:,-1]\n",
    "    output=np.unique(labels,return_counts=True)\n",
    "    index=np.argmax(output[1])\n",
    "    return output[0][index]"
   ]
  },
  {
   "cell_type": "code",
   "execution_count": 12,
   "id": "4c8a79f6",
   "metadata": {},
   "outputs": [
    {
     "name": "stdout",
     "output_type": "stream",
     "text": [
      "Enter the name of the person : mini\n",
      "1\n",
      "2\n",
      "3\n",
      "4\n",
      "5\n",
      "6\n",
      "7\n",
      "8\n",
      "9\n",
      "10\n",
      "11\n",
      "12\n",
      "13\n",
      "14\n",
      "15\n",
      "16\n",
      "17\n",
      "18\n",
      "19\n",
      "20\n",
      "21\n",
      "22\n",
      "23\n"
     ]
    }
   ],
   "source": [
    "cap=cv2.VideoCapture(0)\n",
    "face_cascade=cv2.CascadeClassifier(\"haarcascade_frontalface_default.xml\")\n",
    "\n",
    "skip=0\n",
    "face_data=[]\n",
    "dataset_path=\"./face_dataset/\"\n",
    "\n",
    "file_name=input(\"Enter the name of the person : \")\n",
    "\n",
    "while(True):\n",
    "    ret,frame=cap.read()\n",
    "    gray_frame=cv2.cvtColor(frame,cv2.COLOR_BGR2GRAY)\n",
    "    if ret==False:\n",
    "        continue\n",
    "    faces=face_cascade.detectMultiScale(gray_frame,1.3,5)\n",
    "    if(len(faces)==0):\n",
    "        continue\n",
    "    k=1\n",
    "    faces=sorted(faces,key=lambda x:x[2]*x[3],reverse=True)\n",
    "    skip+=1\n",
    "    for face in faces[:1]:\n",
    "        x,y,w,h=face\n",
    "        offset=5\n",
    "        face_offset=frame[y-offset:y+h+offset,x-offset:x+w+offset]\n",
    "        face_selection=cv2.resize(face_offset,(100,100))\n",
    "        \n",
    "        if skip%10==0:\n",
    "            face_data.append(face_selection)\n",
    "            print(len(face_data))\n",
    "        \n",
    "        cv2.imshow(str(k),face_selection)\n",
    "        k+=1\n",
    "        \n",
    "        cv2.rectangle(frame,(x,y),(x+w,y+h),(0,255,0),2)\n",
    "    cv2.imshow(\"faces\",frame)\n",
    "    if(cv2.waitKey(1)&0xFF==ord('q')):\n",
    "        break \n",
    "face_data=np.array(face_data)\n",
    "face_data=face_data.reshape((face_data.shape[0],-1))\n",
    "np.save(dataset_path+file_name,face_data) \n",
    "cap.release()\n",
    "cv2.destroyAllWindows()"
   ]
  },
  {
   "cell_type": "code",
   "execution_count": 4,
   "id": "20b9d96c",
   "metadata": {},
   "outputs": [
    {
     "name": "stdout",
     "output_type": "stream",
     "text": [
      "(42, 1)\n",
      "(42, 30000)\n"
     ]
    }
   ],
   "source": [
    "import os\n",
    "cap=cv2.VideoCapture(0)\n",
    "face_cascade=cv2.CascadeClassifier(\"haarcascade_frontalface_default.xml\")\n",
    "dataset_path=\"./face_dataset/\"\n",
    "face_data=[]\n",
    "labels=[]\n",
    "class_id=0\n",
    "names={}\n",
    "  \n",
    "for fx in os.listdir(dataset_path):\n",
    "    if fx.endswith('.npy'):\n",
    "        names[class_id]=fx[:-4]\n",
    "        data_item=np.load(dataset_path+fx)\n",
    "        face_data.append(data_item)\n",
    "        target=class_id*np.ones((data_item.shape[0],))\n",
    "        class_id+=1 \n",
    "        labels.append(target)\n",
    "face_dataset=np.concatenate(face_data,axis=0)\n",
    "face_labels=np.concatenate(labels,axis=0).reshape((-1,1))\n",
    "print(face_labels.shape)\n",
    "print(face_dataset.shape)\n",
    "\n",
    "trainset=np.concatenate((face_dataset,face_labels),axis=1)\n",
    "\n",
    "font =cv2.FONT_HERSHEY_SIMPLEX\n",
    "\n",
    "while(True):\n",
    "    ret,frame=cap.read()\n",
    "    if ret==False:\n",
    "        continue\n",
    "    gray_frame=cv2.cvtColor(frame,cv2.COLOR_BGR2GRAY)\n",
    "    faces=face_cascade.detectMultiScale(gray_frame,1.3,5)\n",
    "    for face in faces:\n",
    "        x,y,w,h=face\n",
    "        offset=5\n",
    "        face_section=frame[y-offset:y+h+offset,x-offset:x+w+offset]\n",
    "        face_section=cv2.resize(face_section,(100,100))\n",
    "        out=knn(trainset,face_section.flatten())\n",
    "        cv2.putText(frame,names[int(out)],(x,y-10),cv2.FONT_HERSHEY_SIMPLEX,1,(255,0,0),2,cv2.LINE_AA)\n",
    "        cv2.rectangle(frame,(x,y),(x+w,y+h),(255,255,255),2)\n",
    "    cv2.imshow(\"Faces\",frame)\n",
    "    if(cv2.waitKey(1)&0xFF==ord('q')):\n",
    "        break\n",
    "cap.release()\n",
    "cv2.destroyAllWindows()"
   ]
  },
  {
   "cell_type": "code",
   "execution_count": null,
   "id": "03d7974b",
   "metadata": {},
   "outputs": [],
   "source": []
  }
 ],
 "metadata": {
  "kernelspec": {
   "display_name": "Python 3 (ipykernel)",
   "language": "python",
   "name": "python3"
  },
  "language_info": {
   "codemirror_mode": {
    "name": "ipython",
    "version": 3
   },
   "file_extension": ".py",
   "mimetype": "text/x-python",
   "name": "python",
   "nbconvert_exporter": "python",
   "pygments_lexer": "ipython3",
   "version": "3.11.4"
  }
 },
 "nbformat": 4,
 "nbformat_minor": 5
}
